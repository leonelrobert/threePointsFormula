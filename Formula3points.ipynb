{
 "cells": [
  {
   "cell_type": "code",
   "execution_count": 10,
   "metadata": {},
   "outputs": [],
   "source": [
    "from sympy import *\n",
    "\n",
    "# symbols\n",
    "\n",
    "x, w1, w2, w3 = symbols('x, w1, w2, w3')"
   ]
  },
  {
   "cell_type": "code",
   "execution_count": 11,
   "metadata": {},
   "outputs": [
    {
     "data": {
      "text/latex": [
       "$\\displaystyle \\left[\\begin{matrix}\\frac{- w_{1} - w_{2} x^{2} - w_{3} x^{2} + w_{3} x}{- w_{1} - w_{2} + w_{3} x - w_{3}} & \\frac{w_{2} \\left(x^{2} - 1\\right)}{- w_{1} - w_{2} + w_{3} x - w_{3}} & \\frac{w_{3} \\left(x^{2} - 1\\right)}{- w_{1} - w_{2} + w_{3} x - w_{3}}\\\\\\frac{w_{1} \\left(x^{2} - 1\\right)}{- w_{1} - w_{2} + w_{3} x - w_{3}} & \\frac{- w_{1} x^{2} - w_{2} - w_{3} x^{2} + w_{3} x}{- w_{1} - w_{2} + w_{3} x - w_{3}} & \\frac{w_{3} \\left(x^{2} - 1\\right)}{- w_{1} - w_{2} + w_{3} x - w_{3}}\\\\\\frac{w_{1} \\left(x^{2} - 1\\right)}{- w_{1} - w_{2} + w_{3} x - w_{3}} & \\frac{w_{2} \\left(x^{2} - 1\\right)}{- w_{1} - w_{2} + w_{3} x - w_{3}} & \\frac{- w_{1} x^{2} - w_{2} x^{2} + w_{3} x - w_{3}}{- w_{1} - w_{2} + w_{3} x - w_{3}}\\end{matrix}\\right]$"
      ],
      "text/plain": [
       "Matrix([\n",
       "[(-w1 - w2*x**2 - w3*x**2 + w3*x)/(-w1 - w2 + w3*x - w3),                    w2*(x**2 - 1)/(-w1 - w2 + w3*x - w3),                    w3*(x**2 - 1)/(-w1 - w2 + w3*x - w3)],\n",
       "[                   w1*(x**2 - 1)/(-w1 - w2 + w3*x - w3), (-w1*x**2 - w2 - w3*x**2 + w3*x)/(-w1 - w2 + w3*x - w3),                    w3*(x**2 - 1)/(-w1 - w2 + w3*x - w3)],\n",
       "[                   w1*(x**2 - 1)/(-w1 - w2 + w3*x - w3),                    w2*(x**2 - 1)/(-w1 - w2 + w3*x - w3), (-w1*x**2 - w2*x**2 + w3*x - w3)/(-w1 - w2 + w3*x - w3)]])"
      ]
     },
     "execution_count": 11,
     "metadata": {},
     "output_type": "execute_result"
    }
   ],
   "source": [
    "w = w1 + w2 + w3\n",
    "\n",
    "E = Matrix([\n",
    "[w1/w, w2/w, w3/w],\n",
    "[w1/w, w2/w, w3/w],\n",
    "[w1/w, w2/w, w3/w]    \n",
    "])\n",
    "\n",
    "E1 = Matrix([\n",
    "[w1/(w1+w2), w2/(w1+w2), 0],\n",
    "[w1/(w1+w2), w2/(w1+w2), 0],\n",
    "[0, 0, 1]    \n",
    "])\n",
    "\n",
    "E2 = Matrix([\n",
    "[w1/(w1+w3), 0, w3/(w1+w3)],\n",
    "[0, 1, 0],\n",
    "[w1/(w1+w3), 0, w3/(w1+w3)]\n",
    "])\n",
    "\n",
    "E3 = Matrix([\n",
    "[1, 0, 0],\n",
    "[0, w2/(w2+w3), w3/(w2+w3)],\n",
    "[0, w2/(w2+w3), w3/(w2+w3)]\n",
    "])\n",
    "\n",
    "I = eye(3)\n",
    "\n",
    "#parameters s,y,z defined in terms of x\n",
    "s =  x*(w*x - w3)/(w - w3*x)\n",
    "y = ((w1*x + w2)/(w2*x + w1))*(s/x)\n",
    "z = ((w2*x + w1)/(w1*x + w2))*(s/x)\n",
    "\n",
    "#pinching matrices with parameters x,y,z\n",
    "T1 = x*I + (1-x)*E1\n",
    "T2 = y*I + (1-y)*E2\n",
    "T3 = z*I + (1-z)*E3\n",
    "\n",
    "\n",
    "#product of four pinching matrices\n",
    "simplify(T3*T1*T2*T1)"
   ]
  },
  {
   "cell_type": "code",
   "execution_count": 12,
   "metadata": {},
   "outputs": [
    {
     "data": {
      "text/latex": [
       "$\\displaystyle \\left[\\begin{matrix}\\frac{- w_{1} - w_{2} x^{2} - w_{3} x^{2} + w_{3} x}{- w_{1} - w_{2} + w_{3} x - w_{3}} & \\frac{w_{2} \\left(x^{2} - 1\\right)}{- w_{1} - w_{2} + w_{3} x - w_{3}} & \\frac{w_{3} \\left(x^{2} - 1\\right)}{- w_{1} - w_{2} + w_{3} x - w_{3}}\\\\\\frac{w_{1} \\left(x^{2} - 1\\right)}{- w_{1} - w_{2} + w_{3} x - w_{3}} & \\frac{- w_{1} x^{2} - w_{2} - w_{3} x^{2} + w_{3} x}{- w_{1} - w_{2} + w_{3} x - w_{3}} & \\frac{w_{3} \\left(x^{2} - 1\\right)}{- w_{1} - w_{2} + w_{3} x - w_{3}}\\\\\\frac{w_{1} \\left(x^{2} - 1\\right)}{- w_{1} - w_{2} + w_{3} x - w_{3}} & \\frac{w_{2} \\left(x^{2} - 1\\right)}{- w_{1} - w_{2} + w_{3} x - w_{3}} & \\frac{- w_{1} x^{2} - w_{2} x^{2} + w_{3} x - w_{3}}{- w_{1} - w_{2} + w_{3} x - w_{3}}\\end{matrix}\\right]$"
      ],
      "text/plain": [
       "Matrix([\n",
       "[(-w1 - w2*x**2 - w3*x**2 + w3*x)/(-w1 - w2 + w3*x - w3),                    w2*(x**2 - 1)/(-w1 - w2 + w3*x - w3),                    w3*(x**2 - 1)/(-w1 - w2 + w3*x - w3)],\n",
       "[                   w1*(x**2 - 1)/(-w1 - w2 + w3*x - w3), (-w1*x**2 - w2 - w3*x**2 + w3*x)/(-w1 - w2 + w3*x - w3),                    w3*(x**2 - 1)/(-w1 - w2 + w3*x - w3)],\n",
       "[                   w1*(x**2 - 1)/(-w1 - w2 + w3*x - w3),                    w2*(x**2 - 1)/(-w1 - w2 + w3*x - w3), (-w1*x**2 - w2*x**2 + w3*x - w3)/(-w1 - w2 + w3*x - w3)]])"
      ]
     },
     "execution_count": 12,
     "metadata": {},
     "output_type": "execute_result"
    }
   ],
   "source": [
    "#matrix of the total homothety with parameter s\n",
    "Hs = simplify(s*I + (1-s)*E)\n",
    "Hs"
   ]
  },
  {
   "cell_type": "code",
   "execution_count": null,
   "metadata": {},
   "outputs": [],
   "source": []
  }
 ],
 "metadata": {
  "kernelspec": {
   "display_name": "Python 3",
   "language": "python",
   "name": "python3"
  },
  "language_info": {
   "codemirror_mode": {
    "name": "ipython",
    "version": 3
   },
   "file_extension": ".py",
   "mimetype": "text/x-python",
   "name": "python",
   "nbconvert_exporter": "python",
   "pygments_lexer": "ipython3",
   "version": "3.7.4"
  }
 },
 "nbformat": 4,
 "nbformat_minor": 2
}
